{
 "cells": [
  {
   "cell_type": "code",
   "execution_count": 1,
   "metadata": {},
   "outputs": [
    {
     "name": "stderr",
     "output_type": "stream",
     "text": [
      "/tmp/ipykernel_12973/3928898691.py:1: DeprecationWarning: \n",
      "Pyarrow will become a required dependency of pandas in the next major release of pandas (pandas 3.0),\n",
      "(to allow more performant data types, such as the Arrow string type, and better interoperability with other libraries)\n",
      "but was not found to be installed on your system.\n",
      "If this would cause problems for you,\n",
      "please provide us feedback at https://github.com/pandas-dev/pandas/issues/54466\n",
      "        \n",
      "  import pandas as pd\n"
     ]
    }
   ],
   "source": [
    "import pandas as pd\n",
    "import numpy as np\n",
    "import seaborn as sns\n",
    "import matplotlib.pyplot as plt\n",
    "from personalizados import convertir_horas_wh_a_entero\n"
   ]
  },
  {
   "cell_type": "code",
   "execution_count": 2,
   "metadata": {},
   "outputs": [],
   "source": [
    "df = pd.read_csv('/home/gresuto/DS/Proyectos/Diamond Analyzer/data/Formato_Working.csv')"
   ]
  },
  {
   "cell_type": "code",
   "execution_count": 3,
   "metadata": {},
   "outputs": [
    {
     "name": "stdout",
     "output_type": "stream",
     "text": [
      "73.55\n"
     ]
    }
   ],
   "source": [
    "print((df['Duración'].apply(convertir_horas_wh_a_entero)).sum())"
   ]
  },
  {
   "cell_type": "code",
   "execution_count": 4,
   "metadata": {},
   "outputs": [
    {
     "data": {
      "text/html": [
       "<div>\n",
       "<style scoped>\n",
       "    .dataframe tbody tr th:only-of-type {\n",
       "        vertical-align: middle;\n",
       "    }\n",
       "\n",
       "    .dataframe tbody tr th {\n",
       "        vertical-align: top;\n",
       "    }\n",
       "\n",
       "    .dataframe thead th {\n",
       "        text-align: right;\n",
       "    }\n",
       "</style>\n",
       "<table border=\"1\" class=\"dataframe\">\n",
       "  <thead>\n",
       "    <tr style=\"text-align: right;\">\n",
       "      <th></th>\n",
       "      <th>Día</th>\n",
       "      <th>Duración</th>\n",
       "      <th>Tarea</th>\n",
       "      <th>Etiquetas</th>\n",
       "    </tr>\n",
       "  </thead>\n",
       "  <tbody>\n",
       "    <tr>\n",
       "      <th>0</th>\n",
       "      <td>21/2/2024</td>\n",
       "      <td>1.516667</td>\n",
       "      <td>Curso de Git &amp; Github</td>\n",
       "      <td>Aprendizaje Ds</td>\n",
       "    </tr>\n",
       "    <tr>\n",
       "      <th>1</th>\n",
       "      <td>21/2/2024</td>\n",
       "      <td>1.016667</td>\n",
       "      <td>Curso de Git &amp; Github</td>\n",
       "      <td>Aprendizaje Ds</td>\n",
       "    </tr>\n",
       "    <tr>\n",
       "      <th>2</th>\n",
       "      <td>21/2/2024</td>\n",
       "      <td>1.116667</td>\n",
       "      <td>Curso de Git &amp; Github</td>\n",
       "      <td>Aprendizaje Ds</td>\n",
       "    </tr>\n",
       "    <tr>\n",
       "      <th>3</th>\n",
       "      <td>22/2/2024</td>\n",
       "      <td>1.150000</td>\n",
       "      <td>Curso de Git &amp; Github</td>\n",
       "      <td>Aprendizaje Ds</td>\n",
       "    </tr>\n",
       "    <tr>\n",
       "      <th>4</th>\n",
       "      <td>22/2/2024</td>\n",
       "      <td>2.000000</td>\n",
       "      <td>Curso de Git &amp; Github</td>\n",
       "      <td>Aprendizaje Ds</td>\n",
       "    </tr>\n",
       "    <tr>\n",
       "      <th>5</th>\n",
       "      <td>22/2/2024</td>\n",
       "      <td>2.000000</td>\n",
       "      <td>Curso de Git &amp; Github</td>\n",
       "      <td>Aprendizaje Ds</td>\n",
       "    </tr>\n",
       "    <tr>\n",
       "      <th>6</th>\n",
       "      <td>22/2/2024</td>\n",
       "      <td>1.000000</td>\n",
       "      <td>Youtube</td>\n",
       "      <td>Ocio</td>\n",
       "    </tr>\n",
       "    <tr>\n",
       "      <th>7</th>\n",
       "      <td>22/2/2024</td>\n",
       "      <td>0.716667</td>\n",
       "      <td>Gestionando Notion</td>\n",
       "      <td>Planning</td>\n",
       "    </tr>\n",
       "    <tr>\n",
       "      <th>8</th>\n",
       "      <td>23/2/2024</td>\n",
       "      <td>0.250000</td>\n",
       "      <td>Gestionando Notion</td>\n",
       "      <td>Planning</td>\n",
       "    </tr>\n",
       "    <tr>\n",
       "      <th>9</th>\n",
       "      <td>23/2/2024</td>\n",
       "      <td>0.150000</td>\n",
       "      <td>Gestionando Notion</td>\n",
       "      <td>Planning</td>\n",
       "    </tr>\n",
       "    <tr>\n",
       "      <th>10</th>\n",
       "      <td>23/2/2024</td>\n",
       "      <td>1.000000</td>\n",
       "      <td>Curso de Git &amp; Github</td>\n",
       "      <td>Aprendizaje Ds</td>\n",
       "    </tr>\n",
       "    <tr>\n",
       "      <th>11</th>\n",
       "      <td>23/2/2024</td>\n",
       "      <td>0.433333</td>\n",
       "      <td>Curso de Educación Financiera y Finanzas Perso...</td>\n",
       "      <td>Aprendizaje Ds</td>\n",
       "    </tr>\n",
       "    <tr>\n",
       "      <th>12</th>\n",
       "      <td>23/2/2024</td>\n",
       "      <td>1.183333</td>\n",
       "      <td>Curso de Educación Financiera y Finanzas Perso...</td>\n",
       "      <td>Aprendizaje Ds</td>\n",
       "    </tr>\n",
       "    <tr>\n",
       "      <th>13</th>\n",
       "      <td>23/2/2024</td>\n",
       "      <td>0.783333</td>\n",
       "      <td>Curso de Educación Financiera y Finanzas Perso...</td>\n",
       "      <td>Aprendizaje Ds</td>\n",
       "    </tr>\n",
       "    <tr>\n",
       "      <th>14</th>\n",
       "      <td>24/2/2024</td>\n",
       "      <td>0.150000</td>\n",
       "      <td>Curso de Python: PIP y Entornos Vistuales</td>\n",
       "      <td>Aprendizaje Ds</td>\n",
       "    </tr>\n",
       "    <tr>\n",
       "      <th>15</th>\n",
       "      <td>24/2/2024</td>\n",
       "      <td>1.333333</td>\n",
       "      <td>Curso de Python: PIP y Entornos Vistuales</td>\n",
       "      <td>Aprendizaje Ds</td>\n",
       "    </tr>\n",
       "    <tr>\n",
       "      <th>16</th>\n",
       "      <td>24/2/2024</td>\n",
       "      <td>1.666667</td>\n",
       "      <td>Curso de Python: PIP y Entornos Vistuales</td>\n",
       "      <td>Aprendizaje Ds</td>\n",
       "    </tr>\n",
       "    <tr>\n",
       "      <th>17</th>\n",
       "      <td>24/2/2024</td>\n",
       "      <td>2.000000</td>\n",
       "      <td>Curso de Educación Financiera y Finanzas Perso...</td>\n",
       "      <td>Aprendizaje Ds</td>\n",
       "    </tr>\n",
       "    <tr>\n",
       "      <th>18</th>\n",
       "      <td>25/2/2024</td>\n",
       "      <td>1.216667</td>\n",
       "      <td>Curso de Python: PIP y Entornos Vistuales</td>\n",
       "      <td>Aprendizaje Ds</td>\n",
       "    </tr>\n",
       "    <tr>\n",
       "      <th>19</th>\n",
       "      <td>25/2/2024</td>\n",
       "      <td>2.500000</td>\n",
       "      <td>Curso de Python: PIP y Entornos Vistuales</td>\n",
       "      <td>Aprendizaje Ds</td>\n",
       "    </tr>\n",
       "    <tr>\n",
       "      <th>20</th>\n",
       "      <td>26/2/2024</td>\n",
       "      <td>1.133333</td>\n",
       "      <td>Curso de Python: PIP y Entornos Vistuales</td>\n",
       "      <td>Aprendizaje Ds</td>\n",
       "    </tr>\n",
       "    <tr>\n",
       "      <th>21</th>\n",
       "      <td>26/2/2024</td>\n",
       "      <td>0.216667</td>\n",
       "      <td>Curso de Python: PIP y Entornos Vistuales</td>\n",
       "      <td>Aprendizaje Ds</td>\n",
       "    </tr>\n",
       "    <tr>\n",
       "      <th>22</th>\n",
       "      <td>26/2/2024</td>\n",
       "      <td>1.133333</td>\n",
       "      <td>Curso de Educación Financiera y Finanzas Perso...</td>\n",
       "      <td>Aprendizaje Ds</td>\n",
       "    </tr>\n",
       "    <tr>\n",
       "      <th>23</th>\n",
       "      <td>26/2/2024</td>\n",
       "      <td>0.916667</td>\n",
       "      <td>Curso de Educación Financiera y Finanzas Perso...</td>\n",
       "      <td>Aprendizaje Ds</td>\n",
       "    </tr>\n",
       "    <tr>\n",
       "      <th>24</th>\n",
       "      <td>27/2/2024</td>\n",
       "      <td>2.000000</td>\n",
       "      <td>Curso Config Profesional Entorno Trabajo DS</td>\n",
       "      <td>Aprendizaje Ds</td>\n",
       "    </tr>\n",
       "    <tr>\n",
       "      <th>25</th>\n",
       "      <td>27/2/2024</td>\n",
       "      <td>0.916667</td>\n",
       "      <td>Curso Config Profesional Entorno Trabajo DS</td>\n",
       "      <td>Aprendizaje Ds</td>\n",
       "    </tr>\n",
       "    <tr>\n",
       "      <th>26</th>\n",
       "      <td>27/2/2024</td>\n",
       "      <td>1.866667</td>\n",
       "      <td>Curso de Educación Financiera y Finanzas Perso...</td>\n",
       "      <td>Aprendizaje Ds</td>\n",
       "    </tr>\n",
       "    <tr>\n",
       "      <th>27</th>\n",
       "      <td>28/2/2024</td>\n",
       "      <td>1.916667</td>\n",
       "      <td>Curso Config Profesional Entorno Trabajo DS</td>\n",
       "      <td>Aprendizaje Ds</td>\n",
       "    </tr>\n",
       "    <tr>\n",
       "      <th>28</th>\n",
       "      <td>28/2/2024</td>\n",
       "      <td>0.650000</td>\n",
       "      <td>Curso Config Profesional Entorno Trabajo DS</td>\n",
       "      <td>Aprendizaje Ds</td>\n",
       "    </tr>\n",
       "    <tr>\n",
       "      <th>29</th>\n",
       "      <td>29/2/2024</td>\n",
       "      <td>2.266667</td>\n",
       "      <td>Curso Config Profesional Entorno Trabajo DS</td>\n",
       "      <td>Aprendizaje Ds</td>\n",
       "    </tr>\n",
       "    <tr>\n",
       "      <th>30</th>\n",
       "      <td>29/2/2024</td>\n",
       "      <td>0.500000</td>\n",
       "      <td>Curso de Educación Financiera y Finanzas Perso...</td>\n",
       "      <td>Aprendizaje Ds</td>\n",
       "    </tr>\n",
       "  </tbody>\n",
       "</table>\n",
       "</div>"
      ],
      "text/plain": [
       "          Día  Duración                                              Tarea  \\\n",
       "0   21/2/2024  1.516667                              Curso de Git & Github   \n",
       "1   21/2/2024  1.016667                              Curso de Git & Github   \n",
       "2   21/2/2024  1.116667                              Curso de Git & Github   \n",
       "3   22/2/2024  1.150000                              Curso de Git & Github   \n",
       "4   22/2/2024  2.000000                              Curso de Git & Github   \n",
       "5   22/2/2024  2.000000                              Curso de Git & Github   \n",
       "6   22/2/2024  1.000000                                            Youtube   \n",
       "7   22/2/2024  0.716667                                 Gestionando Notion   \n",
       "8   23/2/2024  0.250000                                 Gestionando Notion   \n",
       "9   23/2/2024  0.150000                                 Gestionando Notion   \n",
       "10  23/2/2024  1.000000                              Curso de Git & Github   \n",
       "11  23/2/2024  0.433333  Curso de Educación Financiera y Finanzas Perso...   \n",
       "12  23/2/2024  1.183333  Curso de Educación Financiera y Finanzas Perso...   \n",
       "13  23/2/2024  0.783333  Curso de Educación Financiera y Finanzas Perso...   \n",
       "14  24/2/2024  0.150000          Curso de Python: PIP y Entornos Vistuales   \n",
       "15  24/2/2024  1.333333          Curso de Python: PIP y Entornos Vistuales   \n",
       "16  24/2/2024  1.666667          Curso de Python: PIP y Entornos Vistuales   \n",
       "17  24/2/2024  2.000000  Curso de Educación Financiera y Finanzas Perso...   \n",
       "18  25/2/2024  1.216667          Curso de Python: PIP y Entornos Vistuales   \n",
       "19  25/2/2024  2.500000          Curso de Python: PIP y Entornos Vistuales   \n",
       "20  26/2/2024  1.133333          Curso de Python: PIP y Entornos Vistuales   \n",
       "21  26/2/2024  0.216667          Curso de Python: PIP y Entornos Vistuales   \n",
       "22  26/2/2024  1.133333  Curso de Educación Financiera y Finanzas Perso...   \n",
       "23  26/2/2024  0.916667  Curso de Educación Financiera y Finanzas Perso...   \n",
       "24  27/2/2024  2.000000        Curso Config Profesional Entorno Trabajo DS   \n",
       "25  27/2/2024  0.916667        Curso Config Profesional Entorno Trabajo DS   \n",
       "26  27/2/2024  1.866667  Curso de Educación Financiera y Finanzas Perso...   \n",
       "27  28/2/2024  1.916667        Curso Config Profesional Entorno Trabajo DS   \n",
       "28  28/2/2024  0.650000        Curso Config Profesional Entorno Trabajo DS   \n",
       "29  29/2/2024  2.266667        Curso Config Profesional Entorno Trabajo DS   \n",
       "30  29/2/2024  0.500000  Curso de Educación Financiera y Finanzas Perso...   \n",
       "\n",
       "         Etiquetas  \n",
       "0   Aprendizaje Ds  \n",
       "1   Aprendizaje Ds  \n",
       "2   Aprendizaje Ds  \n",
       "3   Aprendizaje Ds  \n",
       "4   Aprendizaje Ds  \n",
       "5   Aprendizaje Ds  \n",
       "6             Ocio  \n",
       "7         Planning  \n",
       "8         Planning  \n",
       "9         Planning  \n",
       "10  Aprendizaje Ds  \n",
       "11  Aprendizaje Ds  \n",
       "12  Aprendizaje Ds  \n",
       "13  Aprendizaje Ds  \n",
       "14  Aprendizaje Ds  \n",
       "15  Aprendizaje Ds  \n",
       "16  Aprendizaje Ds  \n",
       "17  Aprendizaje Ds  \n",
       "18  Aprendizaje Ds  \n",
       "19  Aprendizaje Ds  \n",
       "20  Aprendizaje Ds  \n",
       "21  Aprendizaje Ds  \n",
       "22  Aprendizaje Ds  \n",
       "23  Aprendizaje Ds  \n",
       "24  Aprendizaje Ds  \n",
       "25  Aprendizaje Ds  \n",
       "26  Aprendizaje Ds  \n",
       "27  Aprendizaje Ds  \n",
       "28  Aprendizaje Ds  \n",
       "29  Aprendizaje Ds  \n",
       "30  Aprendizaje Ds  "
      ]
     },
     "execution_count": 4,
     "metadata": {},
     "output_type": "execute_result"
    }
   ],
   "source": [
    "\n",
    "df = df.drop(len(df)-1)\n",
    "df = df.fillna('Ocio')\n",
    "\n",
    "\n",
    "\n",
    "df_preparado = df.drop(columns=['Unnamed: 6', 'Inicio', 'Fin'])\n",
    "df_preparado['Duración'] = df_preparado['Duración'].apply(convertir_horas_wh_a_entero)\n",
    "df_preparado\n"
   ]
  },
  {
   "cell_type": "code",
   "execution_count": 5,
   "metadata": {},
   "outputs": [
    {
     "data": {
      "text/plain": [
       "'\\nA mostrar en la vista:\\n\\nEstadisticas relevantes:\\n-Cantidad de horas trackeadas\\n-Categoria con mayor tiempo invertido\\n-Actividad con mayor tiempo invertido\\n-Porcentaje de tiempo trackeado\\n\\n\\n\\nGraficos a mostrar en la vista:\\n\\n-Grafico de barras con el tiempo invertido por categoria\\n-Grafico de lineas con el tiempo por dia dedicado a las categorias mas constantes\\n-Grafico de barras con el tiempo invertido por actividad\\n-Grafica de pastel con que muestre el porcentaje que conforma el tiempo invertido porcada categoria\\ndel total de horas trackeadas\\n'"
      ]
     },
     "execution_count": 5,
     "metadata": {},
     "output_type": "execute_result"
    }
   ],
   "source": [
    "\"\"\"\n",
    "A mostrar en la vista:\n",
    "\n",
    "Estadisticas relevantes:\n",
    "-Cantidad de horas trackeadas\n",
    "-Categoria con mayor tiempo invertido\n",
    "-Actividad con mayor tiempo invertido\n",
    "-Porcentaje de tiempo trackeado\n",
    "\n",
    "\n",
    "\n",
    "Graficos a mostrar en la vista:\n",
    "\n",
    "-Grafico de barras con el tiempo invertido por categoria\n",
    "-Grafico de lineas con el tiempo por dia dedicado a las categorias mas constantes\n",
    "-Grafico de barras con el tiempo invertido por actividad\n",
    "-Grafica de pastel con que muestre el porcentaje que conforma el tiempo invertido porcada categoria\n",
    "del total de horas trackeadas\n",
    "\"\"\""
   ]
  },
  {
   "cell_type": "markdown",
   "metadata": {},
   "source": [
    "## Estadisticas"
   ]
  },
  {
   "cell_type": "markdown",
   "metadata": {},
   "source": [
    "#### Total horas trackeadas"
   ]
  },
  {
   "cell_type": "code",
   "execution_count": 6,
   "metadata": {},
   "outputs": [
    {
     "data": {
      "text/plain": [
       "36.699999999999996"
      ]
     },
     "execution_count": 6,
     "metadata": {},
     "output_type": "execute_result"
    }
   ],
   "source": [
    "total_horas_trackeadas = df_preparado['Duración'].sum()\n",
    "total_horas_trackeadas\n"
   ]
  },
  {
   "cell_type": "markdown",
   "metadata": {},
   "source": [
    "#### Categoria con mayor tiempo invertido"
   ]
  },
  {
   "cell_type": "code",
   "execution_count": 7,
   "metadata": {},
   "outputs": [
    {
     "data": {
      "text/html": [
       "<div>\n",
       "<style scoped>\n",
       "    .dataframe tbody tr th:only-of-type {\n",
       "        vertical-align: middle;\n",
       "    }\n",
       "\n",
       "    .dataframe tbody tr th {\n",
       "        vertical-align: top;\n",
       "    }\n",
       "\n",
       "    .dataframe thead th {\n",
       "        text-align: right;\n",
       "    }\n",
       "</style>\n",
       "<table border=\"1\" class=\"dataframe\">\n",
       "  <thead>\n",
       "    <tr style=\"text-align: right;\">\n",
       "      <th></th>\n",
       "      <th>Día</th>\n",
       "      <th>Duración</th>\n",
       "      <th>Tarea</th>\n",
       "    </tr>\n",
       "    <tr>\n",
       "      <th>Etiquetas</th>\n",
       "      <th></th>\n",
       "      <th></th>\n",
       "      <th></th>\n",
       "    </tr>\n",
       "  </thead>\n",
       "  <tbody>\n",
       "    <tr>\n",
       "      <th>Aprendizaje Ds</th>\n",
       "      <td>21/2/202421/2/202421/2/202422/2/202422/2/20242...</td>\n",
       "      <td>34.583333</td>\n",
       "      <td>Curso de Git &amp; GithubCurso de Git &amp; GithubCurs...</td>\n",
       "    </tr>\n",
       "    <tr>\n",
       "      <th>Ocio</th>\n",
       "      <td>22/2/2024</td>\n",
       "      <td>1.000000</td>\n",
       "      <td>Youtube</td>\n",
       "    </tr>\n",
       "    <tr>\n",
       "      <th>Planning</th>\n",
       "      <td>22/2/202423/2/202423/2/2024</td>\n",
       "      <td>1.116667</td>\n",
       "      <td>Gestionando NotionGestionando NotionGestionand...</td>\n",
       "    </tr>\n",
       "  </tbody>\n",
       "</table>\n",
       "</div>"
      ],
      "text/plain": [
       "                                                              Día   Duración  \\\n",
       "Etiquetas                                                                      \n",
       "Aprendizaje Ds  21/2/202421/2/202421/2/202422/2/202422/2/20242...  34.583333   \n",
       "Ocio                                                    22/2/2024   1.000000   \n",
       "Planning                              22/2/202423/2/202423/2/2024   1.116667   \n",
       "\n",
       "                                                            Tarea  \n",
       "Etiquetas                                                          \n",
       "Aprendizaje Ds  Curso de Git & GithubCurso de Git & GithubCurs...  \n",
       "Ocio                                                      Youtube  \n",
       "Planning        Gestionando NotionGestionando NotionGestionand...  "
      ]
     },
     "execution_count": 7,
     "metadata": {},
     "output_type": "execute_result"
    }
   ],
   "source": [
    "tiempo_por_categoria = df_preparado.groupby(['Etiquetas']).sum()\n",
    "tiempo_por_categoria\n"
   ]
  },
  {
   "cell_type": "code",
   "execution_count": 8,
   "metadata": {},
   "outputs": [
    {
     "data": {
      "text/plain": [
       "36.7"
      ]
     },
     "execution_count": 8,
     "metadata": {},
     "output_type": "execute_result"
    }
   ],
   "source": [
    "cat_mayor_tiempo = tiempo_por_categoria['Duración'].idxmax()\n",
    "cat_mayor_tiempo\n",
    "tiempo_por_categoria['Duración'].sum()"
   ]
  },
  {
   "cell_type": "markdown",
   "metadata": {},
   "source": [
    "#### Actividad con mayor tiempo invertido"
   ]
  },
  {
   "cell_type": "code",
   "execution_count": 9,
   "metadata": {},
   "outputs": [],
   "source": [
    "tiempo_por_actividad = df_preparado.groupby(['Tarea']).sum().reset_index()\n",
    "tiempo_por_actividad\n",
    "por_actividad_ordenado = tiempo_por_actividad.sort_values(by='Duración', ascending=False)"
   ]
  },
  {
   "cell_type": "code",
   "execution_count": 10,
   "metadata": {},
   "outputs": [
    {
     "data": {
      "text/plain": [
       "2"
      ]
     },
     "execution_count": 10,
     "metadata": {},
     "output_type": "execute_result"
    }
   ],
   "source": [
    "act_mayor_tiempo = tiempo_por_actividad['Duración'].idxmax()\n",
    "act_mayor_tiempo"
   ]
  },
  {
   "cell_type": "markdown",
   "metadata": {},
   "source": [
    "#### Porcentaje de tiempo trackeado"
   ]
  },
  {
   "cell_type": "code",
   "execution_count": 11,
   "metadata": {},
   "outputs": [
    {
     "data": {
      "text/html": [
       "<div>\n",
       "<style scoped>\n",
       "    .dataframe tbody tr th:only-of-type {\n",
       "        vertical-align: middle;\n",
       "    }\n",
       "\n",
       "    .dataframe tbody tr th {\n",
       "        vertical-align: top;\n",
       "    }\n",
       "\n",
       "    .dataframe thead th {\n",
       "        text-align: right;\n",
       "    }\n",
       "</style>\n",
       "<table border=\"1\" class=\"dataframe\">\n",
       "  <thead>\n",
       "    <tr style=\"text-align: right;\">\n",
       "      <th></th>\n",
       "      <th>Día</th>\n",
       "      <th>Etiquetas</th>\n",
       "      <th>Duración</th>\n",
       "      <th>Tarea</th>\n",
       "    </tr>\n",
       "  </thead>\n",
       "  <tbody>\n",
       "    <tr>\n",
       "      <th>0</th>\n",
       "      <td>21/2/2024</td>\n",
       "      <td>Aprendizaje Ds</td>\n",
       "      <td>3.650000</td>\n",
       "      <td>Curso de Git &amp; GithubCurso de Git &amp; GithubCurs...</td>\n",
       "    </tr>\n",
       "    <tr>\n",
       "      <th>1</th>\n",
       "      <td>22/2/2024</td>\n",
       "      <td>Aprendizaje Ds</td>\n",
       "      <td>5.150000</td>\n",
       "      <td>Curso de Git &amp; GithubCurso de Git &amp; GithubCurs...</td>\n",
       "    </tr>\n",
       "    <tr>\n",
       "      <th>2</th>\n",
       "      <td>22/2/2024</td>\n",
       "      <td>Ocio</td>\n",
       "      <td>1.000000</td>\n",
       "      <td>Youtube</td>\n",
       "    </tr>\n",
       "    <tr>\n",
       "      <th>3</th>\n",
       "      <td>22/2/2024</td>\n",
       "      <td>Planning</td>\n",
       "      <td>0.716667</td>\n",
       "      <td>Gestionando Notion</td>\n",
       "    </tr>\n",
       "    <tr>\n",
       "      <th>4</th>\n",
       "      <td>23/2/2024</td>\n",
       "      <td>Aprendizaje Ds</td>\n",
       "      <td>3.400000</td>\n",
       "      <td>Curso de Git &amp; GithubCurso de Educación Financ...</td>\n",
       "    </tr>\n",
       "    <tr>\n",
       "      <th>5</th>\n",
       "      <td>23/2/2024</td>\n",
       "      <td>Planning</td>\n",
       "      <td>0.400000</td>\n",
       "      <td>Gestionando NotionGestionando Notion</td>\n",
       "    </tr>\n",
       "    <tr>\n",
       "      <th>6</th>\n",
       "      <td>24/2/2024</td>\n",
       "      <td>Aprendizaje Ds</td>\n",
       "      <td>5.150000</td>\n",
       "      <td>Curso de Python: PIP y Entornos VistualesCurso...</td>\n",
       "    </tr>\n",
       "    <tr>\n",
       "      <th>7</th>\n",
       "      <td>25/2/2024</td>\n",
       "      <td>Aprendizaje Ds</td>\n",
       "      <td>3.716667</td>\n",
       "      <td>Curso de Python: PIP y Entornos VistualesCurso...</td>\n",
       "    </tr>\n",
       "    <tr>\n",
       "      <th>8</th>\n",
       "      <td>26/2/2024</td>\n",
       "      <td>Aprendizaje Ds</td>\n",
       "      <td>3.400000</td>\n",
       "      <td>Curso de Python: PIP y Entornos VistualesCurso...</td>\n",
       "    </tr>\n",
       "    <tr>\n",
       "      <th>9</th>\n",
       "      <td>27/2/2024</td>\n",
       "      <td>Aprendizaje Ds</td>\n",
       "      <td>4.783333</td>\n",
       "      <td>Curso Config Profesional Entorno Trabajo DSCur...</td>\n",
       "    </tr>\n",
       "    <tr>\n",
       "      <th>10</th>\n",
       "      <td>28/2/2024</td>\n",
       "      <td>Aprendizaje Ds</td>\n",
       "      <td>2.566667</td>\n",
       "      <td>Curso Config Profesional Entorno Trabajo DSCur...</td>\n",
       "    </tr>\n",
       "    <tr>\n",
       "      <th>11</th>\n",
       "      <td>29/2/2024</td>\n",
       "      <td>Aprendizaje Ds</td>\n",
       "      <td>2.766667</td>\n",
       "      <td>Curso Config Profesional Entorno Trabajo DSCur...</td>\n",
       "    </tr>\n",
       "  </tbody>\n",
       "</table>\n",
       "</div>"
      ],
      "text/plain": [
       "          Día       Etiquetas  Duración  \\\n",
       "0   21/2/2024  Aprendizaje Ds  3.650000   \n",
       "1   22/2/2024  Aprendizaje Ds  5.150000   \n",
       "2   22/2/2024            Ocio  1.000000   \n",
       "3   22/2/2024        Planning  0.716667   \n",
       "4   23/2/2024  Aprendizaje Ds  3.400000   \n",
       "5   23/2/2024        Planning  0.400000   \n",
       "6   24/2/2024  Aprendizaje Ds  5.150000   \n",
       "7   25/2/2024  Aprendizaje Ds  3.716667   \n",
       "8   26/2/2024  Aprendizaje Ds  3.400000   \n",
       "9   27/2/2024  Aprendizaje Ds  4.783333   \n",
       "10  28/2/2024  Aprendizaje Ds  2.566667   \n",
       "11  29/2/2024  Aprendizaje Ds  2.766667   \n",
       "\n",
       "                                                Tarea  \n",
       "0   Curso de Git & GithubCurso de Git & GithubCurs...  \n",
       "1   Curso de Git & GithubCurso de Git & GithubCurs...  \n",
       "2                                             Youtube  \n",
       "3                                  Gestionando Notion  \n",
       "4   Curso de Git & GithubCurso de Educación Financ...  \n",
       "5                Gestionando NotionGestionando Notion  \n",
       "6   Curso de Python: PIP y Entornos VistualesCurso...  \n",
       "7   Curso de Python: PIP y Entornos VistualesCurso...  \n",
       "8   Curso de Python: PIP y Entornos VistualesCurso...  \n",
       "9   Curso Config Profesional Entorno Trabajo DSCur...  \n",
       "10  Curso Config Profesional Entorno Trabajo DSCur...  \n",
       "11  Curso Config Profesional Entorno Trabajo DSCur...  "
      ]
     },
     "execution_count": 11,
     "metadata": {},
     "output_type": "execute_result"
    }
   ],
   "source": [
    "tiempo_por_dia = df_preparado.groupby(['Día']).sum()\n",
    "tiempo_por_dia_por_categoria = df_preparado.groupby(['Día', 'Etiquetas']).sum().reset_index()\n",
    "tiempo_por_dia_por_categoria"
   ]
  },
  {
   "cell_type": "code",
   "execution_count": 12,
   "metadata": {},
   "outputs": [
    {
     "data": {
      "text/plain": [
       "36.699999999999996"
      ]
     },
     "execution_count": 12,
     "metadata": {},
     "output_type": "execute_result"
    }
   ],
   "source": [
    "cant_de_dias = len(tiempo_por_dia)\n",
    "horas_totales = cant_de_dias * 24\n",
    "\n",
    "prct_tiempo_track = total_horas_trackeadas / horas_totales * 100\n",
    "prct_tiempo_track\n",
    "total_horas_trackeadas"
   ]
  },
  {
   "cell_type": "markdown",
   "metadata": {},
   "source": [
    "## Graficas"
   ]
  },
  {
   "cell_type": "markdown",
   "metadata": {},
   "source": [
    "#### Grafico de barras tiempo invertido x categoria"
   ]
  },
  {
   "cell_type": "code",
   "execution_count": 13,
   "metadata": {},
   "outputs": [
    {
     "name": "stderr",
     "output_type": "stream",
     "text": [
      "/home/gresuto/mambaforge/envs/Diamond_Analyzer/lib/python3.11/site-packages/seaborn/_base.py:948: FutureWarning: When grouping with a length-1 list-like, you will need to pass a length-1 tuple to get_group in a future version of pandas. Pass `(name,)` instead of `name` to silence this warning.\n",
      "  data_subset = grouped_data.get_group(pd_key)\n",
      "/home/gresuto/mambaforge/envs/Diamond_Analyzer/lib/python3.11/site-packages/seaborn/_base.py:948: FutureWarning: When grouping with a length-1 list-like, you will need to pass a length-1 tuple to get_group in a future version of pandas. Pass `(name,)` instead of `name` to silence this warning.\n",
      "  data_subset = grouped_data.get_group(pd_key)\n",
      "/home/gresuto/mambaforge/envs/Diamond_Analyzer/lib/python3.11/site-packages/seaborn/_base.py:948: FutureWarning: When grouping with a length-1 list-like, you will need to pass a length-1 tuple to get_group in a future version of pandas. Pass `(name,)` instead of `name` to silence this warning.\n",
      "  data_subset = grouped_data.get_group(pd_key)\n"
     ]
    },
    {
     "data": {
      "image/png": "[encoded data removed]",
      "text/plain": [
       "<Figure size 640x480 with 1 Axes>"
      ]
     },
     "metadata": {},
     "output_type": "display_data"
    }
   ],
   "source": [
    "#fig, ax = plt.subplots()\n",
    "\n",
    "plt.subplot(1, 1, 1)\n",
    "sns.barplot(data=tiempo_por_categoria,x = tiempo_por_categoria.index, y = tiempo_por_categoria['Duración'], hue='Etiquetas');\n",
    "\n",
    "plt.ylabel('Tiempo(h)')\n",
    "plt.xlabel('Categorías')\n",
    "\n",
    "plt.yticks(range(0,50,4));\n",
    "\n",
    "#plt.subplot(1, 2, 2)"
   ]
  },
  {
   "cell_type": "markdown",
   "metadata": {},
   "source": [
    "#### Grafico de lineas con tiempo de categorias por dia"
   ]
  },
  {
   "cell_type": "code",
   "execution_count": 14,
   "metadata": {},
   "outputs": [
    {
     "name": "stderr",
     "output_type": "stream",
     "text": [
      "/home/gresuto/mambaforge/envs/Diamond_Analyzer/lib/python3.11/site-packages/seaborn/_base.py:948: FutureWarning: When grouping with a length-1 list-like, you will need to pass a length-1 tuple to get_group in a future version of pandas. Pass `(name,)` instead of `name` to silence this warning.\n",
      "  data_subset = grouped_data.get_group(pd_key)\n",
      "/home/gresuto/mambaforge/envs/Diamond_Analyzer/lib/python3.11/site-packages/seaborn/_base.py:948: FutureWarning: When grouping with a length-1 list-like, you will need to pass a length-1 tuple to get_group in a future version of pandas. Pass `(name,)` instead of `name` to silence this warning.\n",
      "  data_subset = grouped_data.get_group(pd_key)\n",
      "/home/gresuto/mambaforge/envs/Diamond_Analyzer/lib/python3.11/site-packages/seaborn/_base.py:948: FutureWarning: When grouping with a length-1 list-like, you will need to pass a length-1 tuple to get_group in a future version of pandas. Pass `(name,)` instead of `name` to silence this warning.\n",
      "  data_subset = grouped_data.get_group(pd_key)\n"
     ]
    },
    {
     "data": {
      "image/png": "[encoded data removed]",
      "text/plain": [
       "<Figure size 640x480 with 1 Axes>"
      ]
     },
     "metadata": {},
     "output_type": "display_data"
    }
   ],
   "source": [
    "plt.subplot(1, 1, 1)\n",
    "sns.lineplot(data=tiempo_por_dia_por_categoria, x=tiempo_por_dia_por_categoria['Día'], y=tiempo_por_dia_por_categoria['Duración'], hue='Etiquetas');\n",
    "\n",
    "plt.ylabel('Tiempo(h)')\n",
    "\n",
    "\n",
    "plt.xticks(rotation=45);\n",
    "plt.yticks(range(0,10));"
   ]
  },
  {
   "cell_type": "markdown",
   "metadata": {},
   "source": [
    "#### Grafico de barras con tiempo invertido por actividad"
   ]
  },
  {
   "cell_type": "code",
   "execution_count": 15,
   "metadata": {},
   "outputs": [
    {
     "name": "stderr",
     "output_type": "stream",
     "text": [
      "/home/gresuto/mambaforge/envs/Diamond_Analyzer/lib/python3.11/site-packages/seaborn/_base.py:948: FutureWarning: When grouping with a length-1 list-like, you will need to pass a length-1 tuple to get_group in a future version of pandas. Pass `(name,)` instead of `name` to silence this warning.\n",
      "  data_subset = grouped_data.get_group(pd_key)\n",
      "/home/gresuto/mambaforge/envs/Diamond_Analyzer/lib/python3.11/site-packages/seaborn/_base.py:948: FutureWarning: When grouping with a length-1 list-like, you will need to pass a length-1 tuple to get_group in a future version of pandas. Pass `(name,)` instead of `name` to silence this warning.\n",
      "  data_subset = grouped_data.get_group(pd_key)\n",
      "/home/gresuto/mambaforge/envs/Diamond_Analyzer/lib/python3.11/site-packages/seaborn/_base.py:948: FutureWarning: When grouping with a length-1 list-like, you will need to pass a length-1 tuple to get_group in a future version of pandas. Pass `(name,)` instead of `name` to silence this warning.\n",
      "  data_subset = grouped_data.get_group(pd_key)\n",
      "/home/gresuto/mambaforge/envs/Diamond_Analyzer/lib/python3.11/site-packages/seaborn/_base.py:948: FutureWarning: When grouping with a length-1 list-like, you will need to pass a length-1 tuple to get_group in a future version of pandas. Pass `(name,)` instead of `name` to silence this warning.\n",
      "  data_subset = grouped_data.get_group(pd_key)\n",
      "/home/gresuto/mambaforge/envs/Diamond_Analyzer/lib/python3.11/site-packages/seaborn/_base.py:948: FutureWarning: When grouping with a length-1 list-like, you will need to pass a length-1 tuple to get_group in a future version of pandas. Pass `(name,)` instead of `name` to silence this warning.\n",
      "  data_subset = grouped_data.get_group(pd_key)\n",
      "/home/gresuto/mambaforge/envs/Diamond_Analyzer/lib/python3.11/site-packages/seaborn/_base.py:948: FutureWarning: When grouping with a length-1 list-like, you will need to pass a length-1 tuple to get_group in a future version of pandas. Pass `(name,)` instead of `name` to silence this warning.\n",
      "  data_subset = grouped_data.get_group(pd_key)\n"
     ]
    },
    {
     "data": {
      "image/png": "[encoded data removed]",
      "text/plain": [
       "<Figure size 640x480 with 1 Axes>"
      ]
     },
     "metadata": {},
     "output_type": "display_data"
    }
   ],
   "source": [
    "plt.subplot(1, 1, 1)\n",
    "sns.barplot(data=por_actividad_ordenado, x=por_actividad_ordenado['Duración'], y=por_actividad_ordenado['Tarea'], hue='Tarea');\n",
    "\n",
    "plt.ylabel('Actividad');\n",
    "plt.xlabel('Tiempo(h)');\n"
   ]
  },
  {
   "cell_type": "markdown",
   "metadata": {},
   "source": [
    "#### Grafico de pastel con tiempo invertido por categoria en porcentaje"
   ]
  },
  {
   "cell_type": "code",
   "execution_count": 17,
   "metadata": {},
   "outputs": [
    {
     "name": "stdout",
     "output_type": "stream",
     "text": [
      "['94.2', '3.0', '2.7']\n"
     ]
    },
    {
     "data": {
      "text/plain": [
       "<matplotlib.legend.Legend at 0x7a74d31a5d50>"
      ]
     },
     "execution_count": 17,
     "metadata": {},
     "output_type": "execute_result"
    },
    {
     "data": {
      "image/png": "[encoded data removed]",
      "text/plain": [
       "<Figure size 640x480 with 1 Axes>"
      ]
     },
     "metadata": {},
     "output_type": "display_data"
    }
   ],
   "source": [
    "porcentajes = [\n",
    "    f'{(i/total_horas_trackeadas*100):.1f}' for i in tiempo_por_categoria['Duración']]\n",
    "porcentajes.sort()\n",
    "porcentajes.reverse()\n",
    "print(porcentajes)\n",
    "\n",
    "plt.subplot(1, 1, 1)\n",
    "plt.pie(x=tiempo_por_categoria['Duración'].sort_values(ascending=False),\n",
    "        shadow=True, wedgeprops={'width': 0.5}, pctdistance=0.85, autopct='%1.1f%%')\n",
    "\n",
    "plt.legend(labels=[f\"{cat}- {p}%\" for cat, p in zip(\n",
    "    tiempo_por_categoria.sort_values(by='Duración', ascending=False).index, porcentajes)], loc='upper right', bbox_to_anchor=(1.5, 1))"
   ]
  }
 ],
 "metadata": {
  "kernelspec": {
   "display_name": "Diamond_Analyzer",
   "language": "python",
   "name": "python3"
  },
  "language_info": {
   "codemirror_mode": {
    "name": "ipython",
    "version": 3
   },
   "file_extension": ".py",
   "mimetype": "text/x-python",
   "name": "python",
   "nbconvert_exporter": "python",
   "pygments_lexer": "ipython3",
   "version": "3.11.7"
  }
 },
 "nbformat": 4,
 "nbformat_minor": 2
}
