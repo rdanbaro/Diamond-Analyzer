{
 "cells": [
  {
   "cell_type": "markdown",
   "metadata": {},
   "source": [
    "## Importaciones"
   ]
  },
  {
   "cell_type": "code",
   "execution_count": 2,
   "metadata": {},
   "outputs": [],
   "source": [
    "import pandas as pd\n",
    "import numpy as np\n",
    "import matplotlib.pyplot as plt\n",
    "import seaborn as sns"
   ]
  },
  {
   "cell_type": "code",
   "execution_count": 1,
   "metadata": {},
   "outputs": [],
   "source": [
    "def get_datos_metas(ruta):\n",
    "    datos = pd.read_csv(ruta)\n",
    "\n",
    "    list_objs = [i.strip() for i in list(datos['Pendientes'])]\n",
    "    list_requisito = list(datos['Requisito'].fillna(1))\n",
    "    list_cumplido =  list(datos['Cumplido'].fillna(0))\n",
    "    list_realizado = [i.strip() for i in list(datos['Realizado'])]\n",
    "    \n",
    "    return list_objs, list_requisito, list_cumplido, list_realizado \n",
    "    "
   ]
  },
  {
   "cell_type": "code",
   "execution_count": 39,
   "metadata": {},
   "outputs": [
    {
     "data": {
      "text/html": [
       "<div>\n",
       "<style scoped>\n",
       "    .dataframe tbody tr th:only-of-type {\n",
       "        vertical-align: middle;\n",
       "    }\n",
       "\n",
       "    .dataframe tbody tr th {\n",
       "        vertical-align: top;\n",
       "    }\n",
       "\n",
       "    .dataframe thead th {\n",
       "        text-align: right;\n",
       "    }\n",
       "</style>\n",
       "<table border=\"1\" class=\"dataframe\">\n",
       "  <thead>\n",
       "    <tr style=\"text-align: right;\">\n",
       "      <th></th>\n",
       "      <th>Realizado</th>\n",
       "      <th>Pendientes</th>\n",
       "      <th>Procedencia</th>\n",
       "      <th>Requisito</th>\n",
       "      <th>Cumplido</th>\n",
       "      <th>Fecha</th>\n",
       "    </tr>\n",
       "  </thead>\n",
       "  <tbody>\n",
       "    <tr>\n",
       "      <th>0</th>\n",
       "      <td>No</td>\n",
       "      <td>Lograr 1 venta o contribución</td>\n",
       "      <td>Libertad Financiera</td>\n",
       "      <td>1.0</td>\n",
       "      <td>NaN</td>\n",
       "      <td>26 de enero de 2024</td>\n",
       "    </tr>\n",
       "    <tr>\n",
       "      <th>1</th>\n",
       "      <td>No</td>\n",
       "      <td>Empezar progresión de L-sit</td>\n",
       "      <td>Salud Extrema</td>\n",
       "      <td>NaN</td>\n",
       "      <td>NaN</td>\n",
       "      <td>26 de enero de 2024</td>\n",
       "    </tr>\n",
       "    <tr>\n",
       "      <th>2</th>\n",
       "      <td>Yes</td>\n",
       "      <td>Realizar 3 días de entrenamiento de rutinas</td>\n",
       "      <td>Salud Extrema</td>\n",
       "      <td>3.0</td>\n",
       "      <td>NaN</td>\n",
       "      <td>26 de enero de 2024</td>\n",
       "    </tr>\n",
       "    <tr>\n",
       "      <th>3</th>\n",
       "      <td>No</td>\n",
       "      <td>Realizar 3 entrenamientos de abdomen</td>\n",
       "      <td>Salud Extrema</td>\n",
       "      <td>3.0</td>\n",
       "      <td>NaN</td>\n",
       "      <td>26 de enero de 2024</td>\n",
       "    </tr>\n",
       "    <tr>\n",
       "      <th>4</th>\n",
       "      <td>Yes</td>\n",
       "      <td>Completar curso de EDA</td>\n",
       "      <td>DS Way</td>\n",
       "      <td>NaN</td>\n",
       "      <td>NaN</td>\n",
       "      <td>26 de enero de 2024</td>\n",
       "    </tr>\n",
       "    <tr>\n",
       "      <th>5</th>\n",
       "      <td>Yes</td>\n",
       "      <td>Completar curso de Fundamentos de Economía</td>\n",
       "      <td>DS Way</td>\n",
       "      <td>NaN</td>\n",
       "      <td>NaN</td>\n",
       "      <td>26 de enero de 2024</td>\n",
       "    </tr>\n",
       "    <tr>\n",
       "      <th>6</th>\n",
       "      <td>No</td>\n",
       "      <td>Cumplir con 20 horas de leveling</td>\n",
       "      <td>DS Way</td>\n",
       "      <td>20.0</td>\n",
       "      <td>7.0</td>\n",
       "      <td>26 de enero de 2024</td>\n",
       "    </tr>\n",
       "    <tr>\n",
       "      <th>7</th>\n",
       "      <td>No</td>\n",
       "      <td>Cumplir con 5 post en x o 5h</td>\n",
       "      <td>DS Way</td>\n",
       "      <td>5.0</td>\n",
       "      <td>0.0</td>\n",
       "      <td>26 de enero de 2024</td>\n",
       "    </tr>\n",
       "  </tbody>\n",
       "</table>\n",
       "</div>"
      ],
      "text/plain": [
       "  Realizado                                   Pendientes          Procedencia  \\\n",
       "0        No                Lograr 1 venta o contribución  Libertad Financiera   \n",
       "1        No                  Empezar progresión de L-sit        Salud Extrema   \n",
       "2       Yes  Realizar 3 días de entrenamiento de rutinas        Salud Extrema   \n",
       "3        No         Realizar 3 entrenamientos de abdomen        Salud Extrema   \n",
       "4       Yes                       Completar curso de EDA               DS Way   \n",
       "5       Yes   Completar curso de Fundamentos de Economía               DS Way   \n",
       "6        No             Cumplir con 20 horas de leveling               DS Way   \n",
       "7        No                Cumplir con 5 post en x o 5h                DS Way   \n",
       "\n",
       "   Requisito  Cumplido                Fecha  \n",
       "0        1.0       NaN  26 de enero de 2024  \n",
       "1        NaN       NaN  26 de enero de 2024  \n",
       "2        3.0       NaN  26 de enero de 2024  \n",
       "3        3.0       NaN  26 de enero de 2024  \n",
       "4        NaN       NaN  26 de enero de 2024  \n",
       "5        NaN       NaN  26 de enero de 2024  \n",
       "6       20.0       7.0  26 de enero de 2024  \n",
       "7        5.0       0.0  26 de enero de 2024  "
      ]
     },
     "execution_count": 39,
     "metadata": {},
     "output_type": "execute_result"
    }
   ],
   "source": [
    "datos = pd.read_csv('/home/gresuto/DS/Proyectos/Diamond Analyzer/data/data_sprintHI.csv')\n",
    "datos\n",
    "\n"
   ]
  },
  {
   "cell_type": "code",
   "execution_count": 40,
   "metadata": {},
   "outputs": [
    {
     "name": "stdout",
     "output_type": "stream",
     "text": [
      "['Lograr 1 venta o contribución', 'Empezar progresión de L-sit', 'Realizar 3 días de entrenamiento de rutinas', 'Realizar 3 entrenamientos de abdomen', 'Completar curso de EDA', 'Completar curso de Fundamentos de Economía', 'Cumplir con 20 horas de leveling', 'Cumplir con 5 post en x o 5h']\n",
      "[1.0, 1.0, 3.0, 3.0, 1.0, 1.0, 20.0, 5.0]\n",
      "[0.0, 0.0, 0.0, 0.0, 0.0, 0.0, 7.0, 0.0]\n",
      "['No', 'No', 'Yes', 'No', 'Yes', 'Yes', 'No', 'No']\n"
     ]
    }
   ],
   "source": [
    "s"
   ]
  },
  {
   "cell_type": "code",
   "execution_count": 42,
   "metadata": {},
   "outputs": [
    {
     "ename": "ValueError",
     "evalue": "too many values to unpack (expected 2)",
     "output_type": "error",
     "traceback": [
      "\u001b[0;31m---------------------------------------------------------------------------\u001b[0m",
      "\u001b[0;31mValueError\u001b[0m                                Traceback (most recent call last)",
      "Cell \u001b[0;32mIn[42], line 4\u001b[0m\n\u001b[1;32m      1\u001b[0m \u001b[38;5;28;01mdef\u001b[39;00m \u001b[38;5;21mdevuelve_algo\u001b[39m():\n\u001b[1;32m      2\u001b[0m     \u001b[38;5;28;01mreturn\u001b[39;00m \u001b[38;5;241m1\u001b[39m,\u001b[38;5;241m2\u001b[39m,\u001b[38;5;241m3\u001b[39m\n\u001b[0;32m----> 4\u001b[0m n1, n2 \u001b[38;5;241m=\u001b[39m devuelve_algo()\n",
      "\u001b[0;31mValueError\u001b[0m: too many values to unpack (expected 2)"
     ]
    }
   ],
   "source": [
    "def devuelve_algo():\n",
    "    return 1,2,3\n",
    "\n",
    "n1, n2 = devuelve_algo()"
   ]
  }
 ],
 "metadata": {
  "kernelspec": {
   "display_name": "Diamond_Analyzer",
   "language": "python",
   "name": "python3"
  },
  "language_info": {
   "codemirror_mode": {
    "name": "ipython",
    "version": 3
   },
   "file_extension": ".py",
   "mimetype": "text/x-python",
   "name": "python",
   "nbconvert_exporter": "python",
   "pygments_lexer": "ipython3",
   "version": "3.11.7"
  }
 },
 "nbformat": 4,
 "nbformat_minor": 2
}
